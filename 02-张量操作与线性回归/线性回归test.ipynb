{
 "nbformat": 4,
 "nbformat_minor": 2,
 "metadata": {
  "language_info": {
   "name": "python",
   "codemirror_mode": {
    "name": "ipython",
    "version": 3
   },
   "version": "3.7.4-final"
  },
  "orig_nbformat": 2,
  "file_extension": ".py",
  "mimetype": "text/x-python",
  "name": "python",
  "npconvert_exporter": "python",
  "pygments_lexer": "ipython3",
  "version": 3,
  "kernelspec": {
   "name": "python37464bitbasecondad4ca613c51c04ab7a9d9b4b5bf40c2df",
   "display_name": "Python 3.7.4 64-bit ('base': conda)"
  }
 },
 "cells": [
  {
   "cell_type": "code",
   "execution_count": 1,
   "metadata": {},
   "outputs": [],
   "source": [
    "import torch\n",
    "import matplotlib.pyplot as plt "
   ]
  },
  {
   "cell_type": "code",
   "execution_count": 3,
   "metadata": {},
   "outputs": [],
   "source": [
    "torch.manual_seed(10)\n",
    "lr = 0.05"
   ]
  },
  {
   "cell_type": "code",
   "execution_count": 4,
   "metadata": {},
   "outputs": [],
   "source": [
    "x = torch.rand(20, 1) * 10  # 均匀分布\n",
    "y = 2*x + (5 + torch.randn(20, 1))"
   ]
  },
  {
   "cell_type": "code",
   "execution_count": 5,
   "metadata": {},
   "outputs": [
    {
     "data": {
      "text/plain": "(torch.Size([20, 1]), torch.Size([20, 1]))"
     },
     "execution_count": 5,
     "metadata": {},
     "output_type": "execute_result"
    }
   ],
   "source": [
    "x.shape, y.shape"
   ]
  },
  {
   "cell_type": "code",
   "execution_count": 6,
   "metadata": {},
   "outputs": [],
   "source": [
    "# 初始化参数\n",
    "w = torch.randn((1), requires_grad=True)\n",
    "b = torch.zeros((1), requires_grad=True)"
   ]
  },
  {
   "cell_type": "code",
   "execution_count": 11,
   "metadata": {},
   "outputs": [
    {
     "name": "stdout",
     "output_type": "stream",
     "text": "tensor([0.0045])tensor([-0.3174])\ntensor(0.9022, grad_fn=<MeanBackward0>)\ntensor([0.0836])tensor([-0.3027])\ntensor([0.0253])tensor([-0.3104])\ntensor([0.0674])tensor([-0.3018])\ntensor([0.0361])tensor([-0.3051])\ntensor([0.0585])tensor([-0.2997])\ntensor([0.0417])tensor([-0.3007])\ntensor([0.0535])tensor([-0.2971])\ntensor([0.0444])tensor([-0.2969])\ntensor([0.0506])tensor([-0.2941])\n"
    }
   ],
   "source": [
    "wgrad=[]\n",
    "bgrad=[]\n",
    "for iteration in range(10):\n",
    "    # 前向传播\n",
    "    wx = torch.mul(w, x)\n",
    "    y_pred = torch.add(wx, b)\n",
    "    # 计算loss\n",
    "    loss = (0.5 * (y - y_pred) ** 2).mean()\n",
    "    # 反向传播\n",
    "    loss.backward()\n",
    "    # 更新参数\n",
    "    w.data.sub_(lr * w.grad)\n",
    "    b.data.sub_(lr * b.grad)\n",
    "    print(w.grad,b.grad)\n",
    "    # 对梯度进行清零\n",
    "    wgrad.append(w.grad)\n",
    "    bgrad.append(b.grad)\n",
    "    w.grad.zero_()\n",
    "    b.grad.zero_()\n",
    "    \n",
    "\n",
    "    if iteration % 20 == 0:\n",
    "        print(loss)\n"
   ]
  },
  {
   "cell_type": "code",
   "execution_count": 8,
   "metadata": {},
   "outputs": [
    {
     "data": {
      "text/plain": "([tensor([0.]),\n  tensor([0.]),\n  tensor([0.]),\n  tensor([0.]),\n  tensor([0.]),\n  tensor([0.]),\n  tensor([0.]),\n  tensor([0.]),\n  tensor([0.]),\n  tensor([0.])],\n [tensor([0.]),\n  tensor([0.]),\n  tensor([0.]),\n  tensor([0.]),\n  tensor([0.]),\n  tensor([0.]),\n  tensor([0.]),\n  tensor([0.]),\n  tensor([0.]),\n  tensor([0.])])"
     },
     "execution_count": 8,
     "metadata": {},
     "output_type": "execute_result"
    }
   ],
   "source": [
    "wgrad,bgrad"
   ]
  }
 ]
}